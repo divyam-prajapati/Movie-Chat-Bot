{
 "cells": [
  {
   "cell_type": "code",
   "execution_count": 4,
   "metadata": {},
   "outputs": [],
   "source": [
    "from datasets import load_dataset\n",
    "\n",
    "movie_dataset = load_dataset(\"wiki_movies\")\n",
    "df = pd.DataFrame({\n",
    "    \"question\":  movie_dataset[\"test\"][\"question\"][:1000],\n",
    "    \"answer\":  movie_dataset[\"test\"][\"answer\"][:1000]\n",
    "})"
   ]
  },
  {
   "cell_type": "code",
   "execution_count": 5,
   "metadata": {},
   "outputs": [
    {
     "data": {
      "text/html": [
       "<div>\n",
       "<style scoped>\n",
       "    .dataframe tbody tr th:only-of-type {\n",
       "        vertical-align: middle;\n",
       "    }\n",
       "\n",
       "    .dataframe tbody tr th {\n",
       "        vertical-align: top;\n",
       "    }\n",
       "\n",
       "    .dataframe thead th {\n",
       "        text-align: right;\n",
       "    }\n",
       "</style>\n",
       "<table border=\"1\" class=\"dataframe\">\n",
       "  <thead>\n",
       "    <tr style=\"text-align: right;\">\n",
       "      <th></th>\n",
       "      <th>question</th>\n",
       "      <th>answer</th>\n",
       "    </tr>\n",
       "  </thead>\n",
       "  <tbody>\n",
       "    <tr>\n",
       "      <th>0</th>\n",
       "      <td>what does Grégoire Colin appear in?</td>\n",
       "      <td>Before the Rain\\n</td>\n",
       "    </tr>\n",
       "    <tr>\n",
       "      <th>1</th>\n",
       "      <td>Joe Thomas appears in which movies?</td>\n",
       "      <td>The Inbetweeners Movie, The Inbetweeners 2\\n</td>\n",
       "    </tr>\n",
       "    <tr>\n",
       "      <th>2</th>\n",
       "      <td>what films did Michelle Trachtenberg star in?</td>\n",
       "      <td>Inspector Gadget, Black Christmas, Ice Princes...</td>\n",
       "    </tr>\n",
       "    <tr>\n",
       "      <th>3</th>\n",
       "      <td>what does Helen Mack star in?</td>\n",
       "      <td>The Son of Kong, Kiss and Make-Up, Divorce\\n</td>\n",
       "    </tr>\n",
       "    <tr>\n",
       "      <th>4</th>\n",
       "      <td>what films did Shahid Kapoor act in?</td>\n",
       "      <td>Haider, Jab We Met, Chance Pe Dance\\n</td>\n",
       "    </tr>\n",
       "    <tr>\n",
       "      <th>...</th>\n",
       "      <td>...</td>\n",
       "      <td>...</td>\n",
       "    </tr>\n",
       "    <tr>\n",
       "      <th>1005</th>\n",
       "      <td>Yes, it was.</td>\n",
       "      <td>Do you want to watch it together sometime?</td>\n",
       "    </tr>\n",
       "    <tr>\n",
       "      <th>1006</th>\n",
       "      <td>Sure, that sounds like a plan.</td>\n",
       "      <td>Awesome! Let's plan it for this weekend.</td>\n",
       "    </tr>\n",
       "    <tr>\n",
       "      <th>1007</th>\n",
       "      <td>Sounds good to me.</td>\n",
       "      <td>Alright then, it's a plan. What time works for...</td>\n",
       "    </tr>\n",
       "    <tr>\n",
       "      <th>1008</th>\n",
       "      <td>How about Saturday evening?</td>\n",
       "      <td>Perfect! Saturday evening it is. I'll book the...</td>\n",
       "    </tr>\n",
       "    <tr>\n",
       "      <th>1009</th>\n",
       "      <td>Great! Looking forward to it.</td>\n",
       "      <td>Me too. It'll be fun.</td>\n",
       "    </tr>\n",
       "  </tbody>\n",
       "</table>\n",
       "<p>1010 rows × 2 columns</p>\n",
       "</div>"
      ],
      "text/plain": [
       "                                            question  \\\n",
       "0                what does Grégoire Colin appear in?   \n",
       "1                Joe Thomas appears in which movies?   \n",
       "2      what films did Michelle Trachtenberg star in?   \n",
       "3                      what does Helen Mack star in?   \n",
       "4               what films did Shahid Kapoor act in?   \n",
       "...                                              ...   \n",
       "1005                                    Yes, it was.   \n",
       "1006                  Sure, that sounds like a plan.   \n",
       "1007                              Sounds good to me.   \n",
       "1008                     How about Saturday evening?   \n",
       "1009                   Great! Looking forward to it.   \n",
       "\n",
       "                                                 answer  \n",
       "0                                     Before the Rain\\n  \n",
       "1          The Inbetweeners Movie, The Inbetweeners 2\\n  \n",
       "2     Inspector Gadget, Black Christmas, Ice Princes...  \n",
       "3          The Son of Kong, Kiss and Make-Up, Divorce\\n  \n",
       "4                 Haider, Jab We Met, Chance Pe Dance\\n  \n",
       "...                                                 ...  \n",
       "1005         Do you want to watch it together sometime?  \n",
       "1006           Awesome! Let's plan it for this weekend.  \n",
       "1007  Alright then, it's a plan. What time works for...  \n",
       "1008  Perfect! Saturday evening it is. I'll book the...  \n",
       "1009                              Me too. It'll be fun.  \n",
       "\n",
       "[1010 rows x 2 columns]"
      ]
     },
     "execution_count": 5,
     "metadata": {},
     "output_type": "execute_result"
    }
   ],
   "source": [
    "\n",
    "# Define the new dialogue data\n",
    "new_dialogue_data = [\n",
    "    [\"Hi\", \"Hello\"],\n",
    "    [\"How are you?\", \"I'm good, thanks for asking. How about you?\"],\n",
    "    [\"I'm doing well too.\", \"That's great to hear. What have you been up to lately?\"],\n",
    "    [\"Not much, just working and spending time with family.\", \"That sounds nice. Have you watched any good movies recently?\"],\n",
    "    [\"Yeah, I saw a really good one last weekend.\", \"It was a thriller, right? I heard good things about it.\"],\n",
    "    [\"Yes, it was.\", \"Do you want to watch it together sometime?\"],\n",
    "    [\"Sure, that sounds like a plan.\", \"Awesome! Let's plan it for this weekend.\"],\n",
    "    [\"Sounds good to me.\", \"Alright then, it's a plan. What time works for you?\"],\n",
    "    [\"How about Saturday evening?\", \"Perfect! Saturday evening it is. I'll book the tickets.\"],\n",
    "    [\"Great! Looking forward to it.\", \"Me too. It'll be fun.\"]\n",
    "]\n",
    "columns = ['question', 'answer']\n",
    "new_df = pd.DataFrame(new_dialogue_data, columns=columns)\n",
    "\n",
    "# Concatenate the new DataFrame with the existing DataFrame\n",
    "df = pd.concat([df, new_df], ignore_index=True)\n",
    "\n",
    "# Print the updated DataFrame\n",
    "df"
   ]
  },
  {
   "cell_type": "code",
   "execution_count": 6,
   "metadata": {},
   "outputs": [
    {
     "name": "stderr",
     "output_type": "stream",
     "text": [
      "[nltk_data] Downloading package punkt to\n",
      "[nltk_data]     C:\\Users\\divya\\AppData\\Roaming\\nltk_data...\n",
      "[nltk_data]   Package punkt is already up-to-date!\n"
     ]
    },
    {
     "data": {
      "text/html": [
       "<div>\n",
       "<style scoped>\n",
       "    .dataframe tbody tr th:only-of-type {\n",
       "        vertical-align: middle;\n",
       "    }\n",
       "\n",
       "    .dataframe tbody tr th {\n",
       "        vertical-align: top;\n",
       "    }\n",
       "\n",
       "    .dataframe thead th {\n",
       "        text-align: right;\n",
       "    }\n",
       "</style>\n",
       "<table border=\"1\" class=\"dataframe\">\n",
       "  <thead>\n",
       "    <tr style=\"text-align: right;\">\n",
       "      <th></th>\n",
       "      <th>question</th>\n",
       "      <th>answer</th>\n",
       "    </tr>\n",
       "  </thead>\n",
       "  <tbody>\n",
       "    <tr>\n",
       "      <th>0</th>\n",
       "      <td>what does grégoire colin appear in?</td>\n",
       "      <td>before the rain\\n</td>\n",
       "    </tr>\n",
       "    <tr>\n",
       "      <th>1</th>\n",
       "      <td>joe thomas appears in which movies?</td>\n",
       "      <td>the inbetweeners movie, the inbetweeners 2\\n</td>\n",
       "    </tr>\n",
       "    <tr>\n",
       "      <th>2</th>\n",
       "      <td>what films did michelle trachtenberg star in?</td>\n",
       "      <td>inspector gadget, black christmas, ice princes...</td>\n",
       "    </tr>\n",
       "    <tr>\n",
       "      <th>3</th>\n",
       "      <td>what does helen mack star in?</td>\n",
       "      <td>the son of kong, kiss and make-up, divorce\\n</td>\n",
       "    </tr>\n",
       "    <tr>\n",
       "      <th>4</th>\n",
       "      <td>what films did shahid kapoor act in?</td>\n",
       "      <td>haider, jab we met, chance pe dance\\n</td>\n",
       "    </tr>\n",
       "    <tr>\n",
       "      <th>...</th>\n",
       "      <td>...</td>\n",
       "      <td>...</td>\n",
       "    </tr>\n",
       "    <tr>\n",
       "      <th>1005</th>\n",
       "      <td>yes, it was.</td>\n",
       "      <td>do you want to watch it together sometime?</td>\n",
       "    </tr>\n",
       "    <tr>\n",
       "      <th>1006</th>\n",
       "      <td>sure, that sounds like a plan.</td>\n",
       "      <td>awesome! let's plan it for this weekend.</td>\n",
       "    </tr>\n",
       "    <tr>\n",
       "      <th>1007</th>\n",
       "      <td>sounds good to me.</td>\n",
       "      <td>alright then, it's a plan. what time works for...</td>\n",
       "    </tr>\n",
       "    <tr>\n",
       "      <th>1008</th>\n",
       "      <td>how about saturday evening?</td>\n",
       "      <td>perfect! saturday evening it is. i'll book the...</td>\n",
       "    </tr>\n",
       "    <tr>\n",
       "      <th>1009</th>\n",
       "      <td>great! looking forward to it.</td>\n",
       "      <td>me too. it'll be fun.</td>\n",
       "    </tr>\n",
       "  </tbody>\n",
       "</table>\n",
       "<p>1010 rows × 2 columns</p>\n",
       "</div>"
      ],
      "text/plain": [
       "                                            question  \\\n",
       "0                what does grégoire colin appear in?   \n",
       "1                joe thomas appears in which movies?   \n",
       "2      what films did michelle trachtenberg star in?   \n",
       "3                      what does helen mack star in?   \n",
       "4               what films did shahid kapoor act in?   \n",
       "...                                              ...   \n",
       "1005                                    yes, it was.   \n",
       "1006                  sure, that sounds like a plan.   \n",
       "1007                              sounds good to me.   \n",
       "1008                     how about saturday evening?   \n",
       "1009                   great! looking forward to it.   \n",
       "\n",
       "                                                 answer  \n",
       "0                                     before the rain\\n  \n",
       "1          the inbetweeners movie, the inbetweeners 2\\n  \n",
       "2     inspector gadget, black christmas, ice princes...  \n",
       "3          the son of kong, kiss and make-up, divorce\\n  \n",
       "4                 haider, jab we met, chance pe dance\\n  \n",
       "...                                                 ...  \n",
       "1005         do you want to watch it together sometime?  \n",
       "1006           awesome! let's plan it for this weekend.  \n",
       "1007  alright then, it's a plan. what time works for...  \n",
       "1008  perfect! saturday evening it is. i'll book the...  \n",
       "1009                              me too. it'll be fun.  \n",
       "\n",
       "[1010 rows x 2 columns]"
      ]
     },
     "execution_count": 6,
     "metadata": {},
     "output_type": "execute_result"
    }
   ],
   "source": [
    "import nltk\n",
    "from nltk.corpus import stopwords\n",
    "from nltk.tokenize import word_tokenize\n",
    "\n",
    "nltk.download('punkt')\n",
    "\n",
    "# Function for preprocessing text\n",
    "def preprocess_text(text):\n",
    "    # Convert text to lowercase\n",
    "    text = text.lower()\n",
    "#     tokens = word_tokenize(text)\n",
    "#     tokens = [word for word in tokens if word.isalnum()]\n",
    "#     preprocessed_text = ' '.join(tokens)\n",
    "\n",
    "    return text\n",
    "\n",
    "# Apply preprocessing to question and answer columns\n",
    "preprocessed_df = df.copy()\n",
    "preprocessed_df['question'] = preprocessed_df['question'].apply(preprocess_text)\n",
    "preprocessed_df['answer'] = preprocessed_df['answer'].apply(preprocess_text)\n",
    "\n",
    "# Print the preprocessed DataFrame\n",
    "preprocessed_df"
   ]
  },
  {
   "cell_type": "code",
   "execution_count": 8,
   "metadata": {},
   "outputs": [
    {
     "name": "stderr",
     "output_type": "stream",
     "text": [
      "<>:19: SyntaxWarning: invalid escape sequence '\\S'\n",
      "<>:19: SyntaxWarning: invalid escape sequence '\\S'\n",
      "C:\\Users\\divya\\AppData\\Local\\Temp\\ipykernel_14040\\398802616.py:19: SyntaxWarning: invalid escape sequence '\\S'\n",
      "  text = re.sub('\\S*\\d\\S*\\s*','', text)\n",
      "[nltk_data] Downloading package punkt to\n",
      "[nltk_data]     C:\\Users\\divya\\AppData\\Roaming\\nltk_data...\n",
      "[nltk_data]   Package punkt is already up-to-date!\n"
     ]
    },
    {
     "data": {
      "text/html": [
       "<div>\n",
       "<style scoped>\n",
       "    .dataframe tbody tr th:only-of-type {\n",
       "        vertical-align: middle;\n",
       "    }\n",
       "\n",
       "    .dataframe tbody tr th {\n",
       "        vertical-align: top;\n",
       "    }\n",
       "\n",
       "    .dataframe thead th {\n",
       "        text-align: right;\n",
       "    }\n",
       "</style>\n",
       "<table border=\"1\" class=\"dataframe\">\n",
       "  <thead>\n",
       "    <tr style=\"text-align: right;\">\n",
       "      <th></th>\n",
       "      <th>question</th>\n",
       "      <th>answer</th>\n",
       "    </tr>\n",
       "  </thead>\n",
       "  <tbody>\n",
       "    <tr>\n",
       "      <th>0</th>\n",
       "      <td>&lt;sos&gt; what does gregoire colin appear in &lt;eos&gt;</td>\n",
       "      <td>&lt;sos&gt; before the rain&lt;eos&gt;</td>\n",
       "    </tr>\n",
       "    <tr>\n",
       "      <th>1</th>\n",
       "      <td>&lt;sos&gt; joe thomas appears in which movies &lt;eos&gt;</td>\n",
       "      <td>&lt;sos&gt; the inbetweeners movie  the inbetweeners...</td>\n",
       "    </tr>\n",
       "    <tr>\n",
       "      <th>2</th>\n",
       "      <td>&lt;sos&gt; what films did michelle trachtenberg sta...</td>\n",
       "      <td>&lt;sos&gt; inspector gadget  black christmas  ice p...</td>\n",
       "    </tr>\n",
       "    <tr>\n",
       "      <th>3</th>\n",
       "      <td>&lt;sos&gt; what does helen mack star in &lt;eos&gt;</td>\n",
       "      <td>&lt;sos&gt; the son of kong  kiss and make up  divor...</td>\n",
       "    </tr>\n",
       "    <tr>\n",
       "      <th>4</th>\n",
       "      <td>&lt;sos&gt; what films did shahid kapoor act in &lt;eos&gt;</td>\n",
       "      <td>&lt;sos&gt; haider  jab we met  chance pe dance&lt;eos&gt;</td>\n",
       "    </tr>\n",
       "    <tr>\n",
       "      <th>...</th>\n",
       "      <td>...</td>\n",
       "      <td>...</td>\n",
       "    </tr>\n",
       "    <tr>\n",
       "      <th>1005</th>\n",
       "      <td>&lt;sos&gt; yes  it was &lt;eos&gt;</td>\n",
       "      <td>&lt;sos&gt; do you want to watch it together sometim...</td>\n",
       "    </tr>\n",
       "    <tr>\n",
       "      <th>1006</th>\n",
       "      <td>&lt;sos&gt; sure  that sounds like a plan &lt;eos&gt;</td>\n",
       "      <td>&lt;sos&gt; awesome  let s plan it for this weekend ...</td>\n",
       "    </tr>\n",
       "    <tr>\n",
       "      <th>1007</th>\n",
       "      <td>&lt;sos&gt; sounds good to me &lt;eos&gt;</td>\n",
       "      <td>&lt;sos&gt; alright then  it s a plan  what time wor...</td>\n",
       "    </tr>\n",
       "    <tr>\n",
       "      <th>1008</th>\n",
       "      <td>&lt;sos&gt; how about saturday evening &lt;eos&gt;</td>\n",
       "      <td>&lt;sos&gt; perfect  saturday evening it is  i ll bo...</td>\n",
       "    </tr>\n",
       "    <tr>\n",
       "      <th>1009</th>\n",
       "      <td>&lt;sos&gt; great  looking forward to it &lt;eos&gt;</td>\n",
       "      <td>&lt;sos&gt; me too  it ll be fun &lt;eos&gt;</td>\n",
       "    </tr>\n",
       "  </tbody>\n",
       "</table>\n",
       "<p>1010 rows × 2 columns</p>\n",
       "</div>"
      ],
      "text/plain": [
       "                                               question  \\\n",
       "0        <sos> what does gregoire colin appear in <eos>   \n",
       "1        <sos> joe thomas appears in which movies <eos>   \n",
       "2     <sos> what films did michelle trachtenberg sta...   \n",
       "3              <sos> what does helen mack star in <eos>   \n",
       "4       <sos> what films did shahid kapoor act in <eos>   \n",
       "...                                                 ...   \n",
       "1005                            <sos> yes  it was <eos>   \n",
       "1006          <sos> sure  that sounds like a plan <eos>   \n",
       "1007                      <sos> sounds good to me <eos>   \n",
       "1008             <sos> how about saturday evening <eos>   \n",
       "1009           <sos> great  looking forward to it <eos>   \n",
       "\n",
       "                                                 answer  \n",
       "0                            <sos> before the rain<eos>  \n",
       "1     <sos> the inbetweeners movie  the inbetweeners...  \n",
       "2     <sos> inspector gadget  black christmas  ice p...  \n",
       "3     <sos> the son of kong  kiss and make up  divor...  \n",
       "4        <sos> haider  jab we met  chance pe dance<eos>  \n",
       "...                                                 ...  \n",
       "1005  <sos> do you want to watch it together sometim...  \n",
       "1006  <sos> awesome  let s plan it for this weekend ...  \n",
       "1007  <sos> alright then  it s a plan  what time wor...  \n",
       "1008  <sos> perfect  saturday evening it is  i ll bo...  \n",
       "1009                   <sos> me too  it ll be fun <eos>  \n",
       "\n",
       "[1010 rows x 2 columns]"
      ]
     },
     "execution_count": 8,
     "metadata": {},
     "output_type": "execute_result"
    }
   ],
   "source": [
    "import nltk\n",
    "from nltk.corpus import stopwords\n",
    "from nltk.tokenize import word_tokenize\n",
    "import re\n",
    "import unicodedata\n",
    "import pandas as pd\n",
    "\n",
    "nltk.download('punkt')\n",
    "\n",
    "def unicode_to_ascii(s):\n",
    "    return ''.join(c for c in unicodedata.normalize('NFD', s)\n",
    "      if unicodedata.category(c) != 'Mn')\n",
    "\n",
    "# Function for preprocessing text\n",
    "def preprocess_text(text):\n",
    "    # Convert text to lowercase\n",
    "    text = unicode_to_ascii(text.lower().strip())\n",
    "    text = re.sub(\"(\\\\W)\",\" \",text)\n",
    "    text = re.sub('\\S*\\d\\S*\\s*','', text)\n",
    "    text =  \"<sos> \" +  text + \"<eos>\"\n",
    "    return text\n",
    "\n",
    "# Apply preprocessing to question and answer columns\n",
    "preprocessed_df['question'] = preprocessed_df['question'].apply(preprocess_text)\n",
    "preprocessed_df['answer'] = preprocessed_df['answer'].apply(preprocess_text)\n",
    "\n",
    "# Print the preprocessed DataFrame\n",
    "preprocessed_df"
   ]
  },
  {
   "cell_type": "code",
   "execution_count": 9,
   "metadata": {},
   "outputs": [],
   "source": [
    "import tensorflow as tf\n",
    "from tensorflow.keras.preprocessing.text import Tokenizer\n",
    "from tensorflow.keras.preprocessing.sequence import pad_sequences\n",
    "from tensorflow.keras.models import Model\n",
    "import numpy as np\n",
    "from tensorflow.keras.layers import Input, LSTM, Dense, Embedding, Attention, Concatenate"
   ]
  },
  {
   "cell_type": "code",
   "execution_count": 20,
   "metadata": {},
   "outputs": [
    {
     "name": "stdout",
     "output_type": "stream",
     "text": [
      "(9952, 19)\n",
      "8298\n"
     ]
    }
   ],
   "source": [
    "questions = preprocessed_df['question'].values.tolist()\n",
    "tokenizer_questions = Tokenizer()\n",
    "tokenizer_questions.fit_on_texts(questions)\n",
    "question_seqs = tokenizer_questions.texts_to_sequences(questions)\n",
    "max_len_question = max(len(seq) for seq in question_seqs)\n",
    "question_seqs = pad_sequences(question_seqs, maxlen=max_len_question, padding='post')\n",
    "encoder_input = np.array(question_seqs) \n",
    "print(encoder_input.shape)\n",
    "input_word_dict = tokenizer_questions.word_index\n",
    "num_input_tokens = len(input_word_dict)+1\n",
    "print(num_input_tokens)"
   ]
  },
  {
   "cell_type": "code",
   "execution_count": 6,
   "metadata": {},
   "outputs": [
    {
     "name": "stdout",
     "output_type": "stream",
     "text": [
      "(9952, 19)\n",
      "8298\n"
     ]
    }
   ],
   "source": [
    "answers = preprocessed_df['question'].values.tolist()\n",
    "tokenizer = Tokenizer()\n",
    "tokenizer.fit_on_texts(answers)\n",
    "answer_seqs = tokenizer.texts_to_sequences(answers)\n",
    "max_len_answer = max(len(seq) for seq in answer_seqs)\n",
    "answer_seqs_pad = pad_sequences(answer_seqs, maxlen=max_len_answer, padding='post')\n",
    "decoder_input = np.array(answer_seqs_pad) \n",
    "print(decoder_input.shape)\n",
    "output_word_dict = tokenizer.word_index\n",
    "num_output_tokens = len(output_word_dict)+1\n",
    "print(num_output_tokens)"
   ]
  },
  {
   "cell_type": "code",
   "execution_count": 7,
   "metadata": {},
   "outputs": [
    {
     "name": "stdout",
     "output_type": "stream",
     "text": [
      "(9952, 19, 8298)\n"
     ]
    }
   ],
   "source": [
    "decoder_target = list()\n",
    "for token_seq in answer_seqs:\n",
    "    decoder_target.append(token_seq[1:]) \n",
    "    \n",
    "padded_output_lines = pad_sequences(decoder_target, maxlen=max_len_answer, padding='post' )\n",
    "onehot_output_lines = tf.keras.utils.to_categorical( padded_output_lines , num_output_tokens )\n",
    "decoder_target_data = np.array( onehot_output_lines )\n",
    "print(decoder_target_data.shape)"
   ]
  },
  {
   "cell_type": "code",
   "execution_count": 11,
   "metadata": {},
   "outputs": [],
   "source": [
    "from tensorflow.keras.models import Model\n",
    "from tensorflow.keras.layers import Input, LSTM, Dense, Embedding, Attention, Concatenate, Dropout\n",
    "\n",
    "# Define the model architecture\n",
    "latent_dim = 256  # Dimensionality of the encoding space\n",
    "\n",
    "# Encoder\n",
    "encoder_inputs = Input(shape=(None,))\n",
    "encoder_embedding = Embedding(num_input_tokens, latent_dim, mask_zero=True) (encoder_inputs)\n",
    "encoder_outputs, state_h, state_c = LSTM(latent_dim, return_state=True, dropout=0.2, recurrent_dropout=0.2) (encoder_embedding)\n",
    "encoder_states = [state_h, state_c]\n",
    "\n",
    "# Decoder\n",
    "decoder_inputs = Input(shape=(None,))\n",
    "decoder_embedding = Embedding(num_output_tokens, latent_dim, mask_zero=True) (decoder_inputs)\n",
    "decoder_lstm = LSTM(latent_dim, return_sequences=True, return_state=True, dropout=0.2, recurrent_dropout=0.2)\n",
    "decoder_outputs, _, _ = decoder_lstm(decoder_embedding, initial_state=encoder_states)\n",
    "\n",
    "# Attention mechanism\n",
    "# attention_layer = Attention()\n",
    "# attention_output = attention_layer([decoder_outputs, encoder_outputs])\n",
    "\n",
    "# Concatenate attention output and decoder LSTM output\n",
    "# decoder_concat_input = Concatenate(axis=-1)([decoder_outputs, attention_output])\n",
    "\n",
    "# Add dropout layer for regularization\n",
    "# decoder_concat_input = Dropout(0.2)(decoder_outputs)\n",
    "\n",
    "# Output layer\n",
    "decoder_dense = Dense(num_output_tokens, activation='softmax')\n",
    "decoder_outputs = decoder_dense(decoder_outputs)"
   ]
  },
  {
   "cell_type": "code",
   "execution_count": 15,
   "metadata": {},
   "outputs": [
    {
     "data": {
      "text/html": [
       "<pre style=\"white-space:pre;overflow-x:auto;line-height:normal;font-family:Menlo,'DejaVu Sans Mono',consolas,'Courier New',monospace\"><span style=\"font-weight: bold\">Model: \"functional_5\"</span>\n",
       "</pre>\n"
      ],
      "text/plain": [
       "\u001b[1mModel: \"functional_5\"\u001b[0m\n"
      ]
     },
     "metadata": {},
     "output_type": "display_data"
    },
    {
     "data": {
      "text/html": [
       "<pre style=\"white-space:pre;overflow-x:auto;line-height:normal;font-family:Menlo,'DejaVu Sans Mono',consolas,'Courier New',monospace\">┏━━━━━━━━━━━━━━━━━━━━━┳━━━━━━━━━━━━━━━━━━━┳━━━━━━━━━━━━┳━━━━━━━━━━━━━━━━━━━┓\n",
       "┃<span style=\"font-weight: bold\"> Layer (type)        </span>┃<span style=\"font-weight: bold\"> Output Shape      </span>┃<span style=\"font-weight: bold\">    Param # </span>┃<span style=\"font-weight: bold\"> Connected to      </span>┃\n",
       "┡━━━━━━━━━━━━━━━━━━━━━╇━━━━━━━━━━━━━━━━━━━╇━━━━━━━━━━━━╇━━━━━━━━━━━━━━━━━━━┩\n",
       "│ input_layer_2       │ (<span style=\"color: #00d7ff; text-decoration-color: #00d7ff\">None</span>, <span style=\"color: #00d7ff; text-decoration-color: #00d7ff\">None</span>)      │          <span style=\"color: #00af00; text-decoration-color: #00af00\">0</span> │ -                 │\n",
       "│ (<span style=\"color: #0087ff; text-decoration-color: #0087ff\">InputLayer</span>)        │                   │            │                   │\n",
       "├─────────────────────┼───────────────────┼────────────┼───────────────────┤\n",
       "│ input_layer_3       │ (<span style=\"color: #00d7ff; text-decoration-color: #00d7ff\">None</span>, <span style=\"color: #00d7ff; text-decoration-color: #00d7ff\">None</span>)      │          <span style=\"color: #00af00; text-decoration-color: #00af00\">0</span> │ -                 │\n",
       "│ (<span style=\"color: #0087ff; text-decoration-color: #0087ff\">InputLayer</span>)        │                   │            │                   │\n",
       "├─────────────────────┼───────────────────┼────────────┼───────────────────┤\n",
       "│ embedding_2         │ (<span style=\"color: #00d7ff; text-decoration-color: #00d7ff\">None</span>, <span style=\"color: #00d7ff; text-decoration-color: #00d7ff\">None</span>, <span style=\"color: #00af00; text-decoration-color: #00af00\">256</span>) │  <span style=\"color: #00af00; text-decoration-color: #00af00\">2,124,288</span> │ input_layer_2[<span style=\"color: #00af00; text-decoration-color: #00af00\">0</span>]… │\n",
       "│ (<span style=\"color: #0087ff; text-decoration-color: #0087ff\">Embedding</span>)         │                   │            │                   │\n",
       "├─────────────────────┼───────────────────┼────────────┼───────────────────┤\n",
       "│ not_equal_2         │ (<span style=\"color: #00d7ff; text-decoration-color: #00d7ff\">None</span>, <span style=\"color: #00d7ff; text-decoration-color: #00d7ff\">None</span>)      │          <span style=\"color: #00af00; text-decoration-color: #00af00\">0</span> │ input_layer_2[<span style=\"color: #00af00; text-decoration-color: #00af00\">0</span>]… │\n",
       "│ (<span style=\"color: #0087ff; text-decoration-color: #0087ff\">NotEqual</span>)          │                   │            │                   │\n",
       "├─────────────────────┼───────────────────┼────────────┼───────────────────┤\n",
       "│ embedding_3         │ (<span style=\"color: #00d7ff; text-decoration-color: #00d7ff\">None</span>, <span style=\"color: #00d7ff; text-decoration-color: #00d7ff\">None</span>, <span style=\"color: #00af00; text-decoration-color: #00af00\">256</span>) │  <span style=\"color: #00af00; text-decoration-color: #00af00\">2,124,288</span> │ input_layer_3[<span style=\"color: #00af00; text-decoration-color: #00af00\">0</span>]… │\n",
       "│ (<span style=\"color: #0087ff; text-decoration-color: #0087ff\">Embedding</span>)         │                   │            │                   │\n",
       "├─────────────────────┼───────────────────┼────────────┼───────────────────┤\n",
       "│ lstm_2 (<span style=\"color: #0087ff; text-decoration-color: #0087ff\">LSTM</span>)       │ [(<span style=\"color: #00d7ff; text-decoration-color: #00d7ff\">None</span>, <span style=\"color: #00af00; text-decoration-color: #00af00\">256</span>),     │    <span style=\"color: #00af00; text-decoration-color: #00af00\">525,312</span> │ embedding_2[<span style=\"color: #00af00; text-decoration-color: #00af00\">0</span>][<span style=\"color: #00af00; text-decoration-color: #00af00\">0</span>… │\n",
       "│                     │ (<span style=\"color: #00d7ff; text-decoration-color: #00d7ff\">None</span>, <span style=\"color: #00af00; text-decoration-color: #00af00\">256</span>),      │            │ not_equal_2[<span style=\"color: #00af00; text-decoration-color: #00af00\">0</span>][<span style=\"color: #00af00; text-decoration-color: #00af00\">0</span>] │\n",
       "│                     │ (<span style=\"color: #00d7ff; text-decoration-color: #00d7ff\">None</span>, <span style=\"color: #00af00; text-decoration-color: #00af00\">256</span>)]      │            │                   │\n",
       "├─────────────────────┼───────────────────┼────────────┼───────────────────┤\n",
       "│ lstm_3 (<span style=\"color: #0087ff; text-decoration-color: #0087ff\">LSTM</span>)       │ [(<span style=\"color: #00d7ff; text-decoration-color: #00d7ff\">None</span>, <span style=\"color: #00d7ff; text-decoration-color: #00d7ff\">None</span>,     │    <span style=\"color: #00af00; text-decoration-color: #00af00\">525,312</span> │ embedding_3[<span style=\"color: #00af00; text-decoration-color: #00af00\">0</span>][<span style=\"color: #00af00; text-decoration-color: #00af00\">0</span>… │\n",
       "│                     │ <span style=\"color: #00af00; text-decoration-color: #00af00\">256</span>), (<span style=\"color: #00d7ff; text-decoration-color: #00d7ff\">None</span>,      │            │ lstm_2[<span style=\"color: #00af00; text-decoration-color: #00af00\">0</span>][<span style=\"color: #00af00; text-decoration-color: #00af00\">1</span>],     │\n",
       "│                     │ <span style=\"color: #00af00; text-decoration-color: #00af00\">256</span>), (<span style=\"color: #00d7ff; text-decoration-color: #00d7ff\">None</span>,      │            │ lstm_2[<span style=\"color: #00af00; text-decoration-color: #00af00\">0</span>][<span style=\"color: #00af00; text-decoration-color: #00af00\">2</span>]      │\n",
       "│                     │ <span style=\"color: #00af00; text-decoration-color: #00af00\">256</span>)]             │            │                   │\n",
       "├─────────────────────┼───────────────────┼────────────┼───────────────────┤\n",
       "│ dense_1 (<span style=\"color: #0087ff; text-decoration-color: #0087ff\">Dense</span>)     │ (<span style=\"color: #00d7ff; text-decoration-color: #00d7ff\">None</span>, <span style=\"color: #00d7ff; text-decoration-color: #00d7ff\">None</span>,      │  <span style=\"color: #00af00; text-decoration-color: #00af00\">2,132,586</span> │ lstm_3[<span style=\"color: #00af00; text-decoration-color: #00af00\">0</span>][<span style=\"color: #00af00; text-decoration-color: #00af00\">0</span>]      │\n",
       "│                     │ <span style=\"color: #00af00; text-decoration-color: #00af00\">8298</span>)             │            │                   │\n",
       "└─────────────────────┴───────────────────┴────────────┴───────────────────┘\n",
       "</pre>\n"
      ],
      "text/plain": [
       "┏━━━━━━━━━━━━━━━━━━━━━┳━━━━━━━━━━━━━━━━━━━┳━━━━━━━━━━━━┳━━━━━━━━━━━━━━━━━━━┓\n",
       "┃\u001b[1m \u001b[0m\u001b[1mLayer (type)       \u001b[0m\u001b[1m \u001b[0m┃\u001b[1m \u001b[0m\u001b[1mOutput Shape     \u001b[0m\u001b[1m \u001b[0m┃\u001b[1m \u001b[0m\u001b[1m   Param #\u001b[0m\u001b[1m \u001b[0m┃\u001b[1m \u001b[0m\u001b[1mConnected to     \u001b[0m\u001b[1m \u001b[0m┃\n",
       "┡━━━━━━━━━━━━━━━━━━━━━╇━━━━━━━━━━━━━━━━━━━╇━━━━━━━━━━━━╇━━━━━━━━━━━━━━━━━━━┩\n",
       "│ input_layer_2       │ (\u001b[38;5;45mNone\u001b[0m, \u001b[38;5;45mNone\u001b[0m)      │          \u001b[38;5;34m0\u001b[0m │ -                 │\n",
       "│ (\u001b[38;5;33mInputLayer\u001b[0m)        │                   │            │                   │\n",
       "├─────────────────────┼───────────────────┼────────────┼───────────────────┤\n",
       "│ input_layer_3       │ (\u001b[38;5;45mNone\u001b[0m, \u001b[38;5;45mNone\u001b[0m)      │          \u001b[38;5;34m0\u001b[0m │ -                 │\n",
       "│ (\u001b[38;5;33mInputLayer\u001b[0m)        │                   │            │                   │\n",
       "├─────────────────────┼───────────────────┼────────────┼───────────────────┤\n",
       "│ embedding_2         │ (\u001b[38;5;45mNone\u001b[0m, \u001b[38;5;45mNone\u001b[0m, \u001b[38;5;34m256\u001b[0m) │  \u001b[38;5;34m2,124,288\u001b[0m │ input_layer_2[\u001b[38;5;34m0\u001b[0m]… │\n",
       "│ (\u001b[38;5;33mEmbedding\u001b[0m)         │                   │            │                   │\n",
       "├─────────────────────┼───────────────────┼────────────┼───────────────────┤\n",
       "│ not_equal_2         │ (\u001b[38;5;45mNone\u001b[0m, \u001b[38;5;45mNone\u001b[0m)      │          \u001b[38;5;34m0\u001b[0m │ input_layer_2[\u001b[38;5;34m0\u001b[0m]… │\n",
       "│ (\u001b[38;5;33mNotEqual\u001b[0m)          │                   │            │                   │\n",
       "├─────────────────────┼───────────────────┼────────────┼───────────────────┤\n",
       "│ embedding_3         │ (\u001b[38;5;45mNone\u001b[0m, \u001b[38;5;45mNone\u001b[0m, \u001b[38;5;34m256\u001b[0m) │  \u001b[38;5;34m2,124,288\u001b[0m │ input_layer_3[\u001b[38;5;34m0\u001b[0m]… │\n",
       "│ (\u001b[38;5;33mEmbedding\u001b[0m)         │                   │            │                   │\n",
       "├─────────────────────┼───────────────────┼────────────┼───────────────────┤\n",
       "│ lstm_2 (\u001b[38;5;33mLSTM\u001b[0m)       │ [(\u001b[38;5;45mNone\u001b[0m, \u001b[38;5;34m256\u001b[0m),     │    \u001b[38;5;34m525,312\u001b[0m │ embedding_2[\u001b[38;5;34m0\u001b[0m][\u001b[38;5;34m0\u001b[0m… │\n",
       "│                     │ (\u001b[38;5;45mNone\u001b[0m, \u001b[38;5;34m256\u001b[0m),      │            │ not_equal_2[\u001b[38;5;34m0\u001b[0m][\u001b[38;5;34m0\u001b[0m] │\n",
       "│                     │ (\u001b[38;5;45mNone\u001b[0m, \u001b[38;5;34m256\u001b[0m)]      │            │                   │\n",
       "├─────────────────────┼───────────────────┼────────────┼───────────────────┤\n",
       "│ lstm_3 (\u001b[38;5;33mLSTM\u001b[0m)       │ [(\u001b[38;5;45mNone\u001b[0m, \u001b[38;5;45mNone\u001b[0m,     │    \u001b[38;5;34m525,312\u001b[0m │ embedding_3[\u001b[38;5;34m0\u001b[0m][\u001b[38;5;34m0\u001b[0m… │\n",
       "│                     │ \u001b[38;5;34m256\u001b[0m), (\u001b[38;5;45mNone\u001b[0m,      │            │ lstm_2[\u001b[38;5;34m0\u001b[0m][\u001b[38;5;34m1\u001b[0m],     │\n",
       "│                     │ \u001b[38;5;34m256\u001b[0m), (\u001b[38;5;45mNone\u001b[0m,      │            │ lstm_2[\u001b[38;5;34m0\u001b[0m][\u001b[38;5;34m2\u001b[0m]      │\n",
       "│                     │ \u001b[38;5;34m256\u001b[0m)]             │            │                   │\n",
       "├─────────────────────┼───────────────────┼────────────┼───────────────────┤\n",
       "│ dense_1 (\u001b[38;5;33mDense\u001b[0m)     │ (\u001b[38;5;45mNone\u001b[0m, \u001b[38;5;45mNone\u001b[0m,      │  \u001b[38;5;34m2,132,586\u001b[0m │ lstm_3[\u001b[38;5;34m0\u001b[0m][\u001b[38;5;34m0\u001b[0m]      │\n",
       "│                     │ \u001b[38;5;34m8298\u001b[0m)             │            │                   │\n",
       "└─────────────────────┴───────────────────┴────────────┴───────────────────┘\n"
      ]
     },
     "metadata": {},
     "output_type": "display_data"
    },
    {
     "data": {
      "text/html": [
       "<pre style=\"white-space:pre;overflow-x:auto;line-height:normal;font-family:Menlo,'DejaVu Sans Mono',consolas,'Courier New',monospace\"><span style=\"font-weight: bold\"> Total params: </span><span style=\"color: #00af00; text-decoration-color: #00af00\">7,431,786</span> (28.35 MB)\n",
       "</pre>\n"
      ],
      "text/plain": [
       "\u001b[1m Total params: \u001b[0m\u001b[38;5;34m7,431,786\u001b[0m (28.35 MB)\n"
      ]
     },
     "metadata": {},
     "output_type": "display_data"
    },
    {
     "data": {
      "text/html": [
       "<pre style=\"white-space:pre;overflow-x:auto;line-height:normal;font-family:Menlo,'DejaVu Sans Mono',consolas,'Courier New',monospace\"><span style=\"font-weight: bold\"> Trainable params: </span><span style=\"color: #00af00; text-decoration-color: #00af00\">7,431,786</span> (28.35 MB)\n",
       "</pre>\n"
      ],
      "text/plain": [
       "\u001b[1m Trainable params: \u001b[0m\u001b[38;5;34m7,431,786\u001b[0m (28.35 MB)\n"
      ]
     },
     "metadata": {},
     "output_type": "display_data"
    },
    {
     "data": {
      "text/html": [
       "<pre style=\"white-space:pre;overflow-x:auto;line-height:normal;font-family:Menlo,'DejaVu Sans Mono',consolas,'Courier New',monospace\"><span style=\"font-weight: bold\"> Non-trainable params: </span><span style=\"color: #00af00; text-decoration-color: #00af00\">0</span> (0.00 B)\n",
       "</pre>\n"
      ],
      "text/plain": [
       "\u001b[1m Non-trainable params: \u001b[0m\u001b[38;5;34m0\u001b[0m (0.00 B)\n"
      ]
     },
     "metadata": {},
     "output_type": "display_data"
    }
   ],
   "source": [
    "# Define the model\n",
    "model = Model([encoder_inputs, decoder_inputs], decoder_outputs)\n",
    "\n",
    "# Compile the model\n",
    "model.compile(optimizer='adam', loss='sparse_categorical_crossentropy', metrics=['acc'])\n",
    "\n",
    "# Print model summary\n",
    "model.summary()"
   ]
  },
  {
   "cell_type": "code",
   "execution_count": 16,
   "metadata": {},
   "outputs": [
    {
     "data": {
      "text/plain": [
       "((9952, 19), (9952, 19))"
      ]
     },
     "execution_count": 16,
     "metadata": {},
     "output_type": "execute_result"
    }
   ],
   "source": [
    "decoder_input.shape, encoder_input.shape"
   ]
  },
  {
   "cell_type": "code",
   "execution_count": 17,
   "metadata": {},
   "outputs": [
    {
     "name": "stdout",
     "output_type": "stream",
     "text": [
      "Epoch 1/50\n",
      "\u001b[1m70/70\u001b[0m \u001b[32m━━━━━━━━━━━━━━━━━━━━\u001b[0m\u001b[37m\u001b[0m \u001b[1m22s\u001b[0m 246ms/step - acc: 0.1150 - loss: 6.8643 - val_acc: 0.1321 - val_loss: 5.0358\n",
      "Epoch 2/50\n",
      "\u001b[1m70/70\u001b[0m \u001b[32m━━━━━━━━━━━━━━━━━━━━\u001b[0m\u001b[37m\u001b[0m \u001b[1m16s\u001b[0m 234ms/step - acc: 0.1792 - loss: 3.8271 - val_acc: 0.2391 - val_loss: 4.1136\n",
      "Epoch 3/50\n",
      "\u001b[1m70/70\u001b[0m \u001b[32m━━━━━━━━━━━━━━━━━━━━\u001b[0m\u001b[37m\u001b[0m \u001b[1m17s\u001b[0m 237ms/step - acc: 0.2939 - loss: 2.8330 - val_acc: 0.2824 - val_loss: 3.5386\n",
      "Epoch 4/50\n",
      "\u001b[1m70/70\u001b[0m \u001b[32m━━━━━━━━━━━━━━━━━━━━\u001b[0m\u001b[37m\u001b[0m \u001b[1m16s\u001b[0m 229ms/step - acc: 0.3626 - loss: 2.1964 - val_acc: 0.3389 - val_loss: 3.2020\n",
      "Epoch 5/50\n",
      "\u001b[1m70/70\u001b[0m \u001b[32m━━━━━━━━━━━━━━━━━━━━\u001b[0m\u001b[37m\u001b[0m \u001b[1m16s\u001b[0m 230ms/step - acc: 0.3885 - loss: 1.8752 - val_acc: 0.3469 - val_loss: 3.0374\n",
      "Epoch 6/50\n",
      "\u001b[1m70/70\u001b[0m \u001b[32m━━━━━━━━━━━━━━━━━━━━\u001b[0m\u001b[37m\u001b[0m \u001b[1m16s\u001b[0m 228ms/step - acc: 0.4006 - loss: 1.6986 - val_acc: 0.3480 - val_loss: 2.9481\n",
      "Epoch 7/50\n",
      "\u001b[1m70/70\u001b[0m \u001b[32m━━━━━━━━━━━━━━━━━━━━\u001b[0m\u001b[37m\u001b[0m \u001b[1m16s\u001b[0m 230ms/step - acc: 0.4025 - loss: 1.5803 - val_acc: 0.3501 - val_loss: 2.8801\n",
      "Epoch 8/50\n",
      "\u001b[1m70/70\u001b[0m \u001b[32m━━━━━━━━━━━━━━━━━━━━\u001b[0m\u001b[37m\u001b[0m \u001b[1m16s\u001b[0m 230ms/step - acc: 0.4064 - loss: 1.4819 - val_acc: 0.3600 - val_loss: 2.8172\n",
      "Epoch 9/50\n",
      "\u001b[1m70/70\u001b[0m \u001b[32m━━━━━━━━━━━━━━━━━━━━\u001b[0m\u001b[37m\u001b[0m \u001b[1m16s\u001b[0m 226ms/step - acc: 0.4107 - loss: 1.3848 - val_acc: 0.3631 - val_loss: 2.7795\n",
      "Epoch 10/50\n",
      "\u001b[1m70/70\u001b[0m \u001b[32m━━━━━━━━━━━━━━━━━━━━\u001b[0m\u001b[37m\u001b[0m \u001b[1m16s\u001b[0m 226ms/step - acc: 0.4148 - loss: 1.3010 - val_acc: 0.3712 - val_loss: 2.7627\n",
      "Epoch 11/50\n",
      "\u001b[1m70/70\u001b[0m \u001b[32m━━━━━━━━━━━━━━━━━━━━\u001b[0m\u001b[37m\u001b[0m \u001b[1m16s\u001b[0m 229ms/step - acc: 0.4229 - loss: 1.1866 - val_acc: 0.3751 - val_loss: 2.7414\n",
      "Epoch 12/50\n",
      "\u001b[1m70/70\u001b[0m \u001b[32m━━━━━━━━━━━━━━━━━━━━\u001b[0m\u001b[37m\u001b[0m \u001b[1m16s\u001b[0m 226ms/step - acc: 0.4254 - loss: 1.1053 - val_acc: 0.3782 - val_loss: 2.7284\n",
      "Epoch 13/50\n",
      "\u001b[1m70/70\u001b[0m \u001b[32m━━━━━━━━━━━━━━━━━━━━\u001b[0m\u001b[37m\u001b[0m \u001b[1m16s\u001b[0m 227ms/step - acc: 0.4333 - loss: 1.0183 - val_acc: 0.3814 - val_loss: 2.7109\n",
      "Epoch 14/50\n",
      "\u001b[1m70/70\u001b[0m \u001b[32m━━━━━━━━━━━━━━━━━━━━\u001b[0m\u001b[37m\u001b[0m \u001b[1m16s\u001b[0m 226ms/step - acc: 0.4394 - loss: 0.9428 - val_acc: 0.3846 - val_loss: 2.7028\n",
      "Epoch 15/50\n",
      "\u001b[1m70/70\u001b[0m \u001b[32m━━━━━━━━━━━━━━━━━━━━\u001b[0m\u001b[37m\u001b[0m \u001b[1m16s\u001b[0m 226ms/step - acc: 0.4473 - loss: 0.8545 - val_acc: 0.3882 - val_loss: 2.6940\n",
      "Epoch 16/50\n",
      "\u001b[1m70/70\u001b[0m \u001b[32m━━━━━━━━━━━━━━━━━━━━\u001b[0m\u001b[37m\u001b[0m \u001b[1m16s\u001b[0m 226ms/step - acc: 0.4532 - loss: 0.7874 - val_acc: 0.3917 - val_loss: 2.6824\n",
      "Epoch 17/50\n",
      "\u001b[1m70/70\u001b[0m \u001b[32m━━━━━━━━━━━━━━━━━━━━\u001b[0m\u001b[37m\u001b[0m \u001b[1m16s\u001b[0m 230ms/step - acc: 0.4578 - loss: 0.7153 - val_acc: 0.3940 - val_loss: 2.6757\n",
      "Epoch 18/50\n",
      "\u001b[1m70/70\u001b[0m \u001b[32m━━━━━━━━━━━━━━━━━━━━\u001b[0m\u001b[37m\u001b[0m \u001b[1m16s\u001b[0m 227ms/step - acc: 0.4612 - loss: 0.6500 - val_acc: 0.3957 - val_loss: 2.6690\n",
      "Epoch 19/50\n",
      "\u001b[1m70/70\u001b[0m \u001b[32m━━━━━━━━━━━━━━━━━━━━\u001b[0m\u001b[37m\u001b[0m \u001b[1m16s\u001b[0m 231ms/step - acc: 0.4644 - loss: 0.5948 - val_acc: 0.3968 - val_loss: 2.6687\n",
      "Epoch 20/50\n",
      "\u001b[1m70/70\u001b[0m \u001b[32m━━━━━━━━━━━━━━━━━━━━\u001b[0m\u001b[37m\u001b[0m \u001b[1m16s\u001b[0m 229ms/step - acc: 0.4708 - loss: 0.5293 - val_acc: 0.3983 - val_loss: 2.6622\n",
      "Epoch 21/50\n",
      "\u001b[1m70/70\u001b[0m \u001b[32m━━━━━━━━━━━━━━━━━━━━\u001b[0m\u001b[37m\u001b[0m \u001b[1m16s\u001b[0m 227ms/step - acc: 0.4749 - loss: 0.4726 - val_acc: 0.4000 - val_loss: 2.6570\n",
      "Epoch 22/50\n",
      "\u001b[1m70/70\u001b[0m \u001b[32m━━━━━━━━━━━━━━━━━━━━\u001b[0m\u001b[37m\u001b[0m \u001b[1m16s\u001b[0m 229ms/step - acc: 0.4811 - loss: 0.4197 - val_acc: 0.4018 - val_loss: 2.6517\n",
      "Epoch 23/50\n",
      "\u001b[1m70/70\u001b[0m \u001b[32m━━━━━━━━━━━━━━━━━━━━\u001b[0m\u001b[37m\u001b[0m \u001b[1m16s\u001b[0m 235ms/step - acc: 0.4838 - loss: 0.3728 - val_acc: 0.4032 - val_loss: 2.6380\n",
      "Epoch 24/50\n",
      "\u001b[1m70/70\u001b[0m \u001b[32m━━━━━━━━━━━━━━━━━━━━\u001b[0m\u001b[37m\u001b[0m \u001b[1m16s\u001b[0m 234ms/step - acc: 0.4907 - loss: 0.3274 - val_acc: 0.4047 - val_loss: 2.6277\n",
      "Epoch 25/50\n",
      "\u001b[1m70/70\u001b[0m \u001b[32m━━━━━━━━━━━━━━━━━━━━\u001b[0m\u001b[37m\u001b[0m \u001b[1m16s\u001b[0m 229ms/step - acc: 0.4921 - loss: 0.2886 - val_acc: 0.4062 - val_loss: 2.6125\n",
      "Epoch 26/50\n",
      "\u001b[1m70/70\u001b[0m \u001b[32m━━━━━━━━━━━━━━━━━━━━\u001b[0m\u001b[37m\u001b[0m \u001b[1m16s\u001b[0m 227ms/step - acc: 0.4981 - loss: 0.2469 - val_acc: 0.4072 - val_loss: 2.6037\n",
      "Epoch 27/50\n",
      "\u001b[1m70/70\u001b[0m \u001b[32m━━━━━━━━━━━━━━━━━━━━\u001b[0m\u001b[37m\u001b[0m \u001b[1m16s\u001b[0m 230ms/step - acc: 0.4988 - loss: 0.2151 - val_acc: 0.4079 - val_loss: 2.5800\n",
      "Epoch 28/50\n",
      "\u001b[1m70/70\u001b[0m \u001b[32m━━━━━━━━━━━━━━━━━━━━\u001b[0m\u001b[37m\u001b[0m \u001b[1m16s\u001b[0m 228ms/step - acc: 0.5008 - loss: 0.1777 - val_acc: 0.4091 - val_loss: 2.5657\n",
      "Epoch 29/50\n",
      "\u001b[1m70/70\u001b[0m \u001b[32m━━━━━━━━━━━━━━━━━━━━\u001b[0m\u001b[37m\u001b[0m \u001b[1m16s\u001b[0m 229ms/step - acc: 0.5020 - loss: 0.1549 - val_acc: 0.4095 - val_loss: 2.5476\n",
      "Epoch 30/50\n",
      "\u001b[1m70/70\u001b[0m \u001b[32m━━━━━━━━━━━━━━━━━━━━\u001b[0m\u001b[37m\u001b[0m \u001b[1m16s\u001b[0m 230ms/step - acc: 0.5048 - loss: 0.1306 - val_acc: 0.4100 - val_loss: 2.5261\n",
      "Epoch 31/50\n",
      "\u001b[1m70/70\u001b[0m \u001b[32m━━━━━━━━━━━━━━━━━━━━\u001b[0m\u001b[37m\u001b[0m \u001b[1m16s\u001b[0m 234ms/step - acc: 0.5033 - loss: 0.1060 - val_acc: 0.4106 - val_loss: 2.5068\n",
      "Epoch 32/50\n",
      "\u001b[1m70/70\u001b[0m \u001b[32m━━━━━━━━━━━━━━━━━━━━\u001b[0m\u001b[37m\u001b[0m \u001b[1m16s\u001b[0m 225ms/step - acc: 0.5046 - loss: 0.0873 - val_acc: 0.4111 - val_loss: 2.4897\n",
      "Epoch 33/50\n",
      "\u001b[1m70/70\u001b[0m \u001b[32m━━━━━━━━━━━━━━━━━━━━\u001b[0m\u001b[37m\u001b[0m \u001b[1m16s\u001b[0m 227ms/step - acc: 0.5052 - loss: 0.0729 - val_acc: 0.4114 - val_loss: 2.4687\n",
      "Epoch 34/50\n",
      "\u001b[1m70/70\u001b[0m \u001b[32m━━━━━━━━━━━━━━━━━━━━\u001b[0m\u001b[37m\u001b[0m \u001b[1m16s\u001b[0m 226ms/step - acc: 0.5049 - loss: 0.0587 - val_acc: 0.4118 - val_loss: 2.4503\n",
      "Epoch 35/50\n",
      "\u001b[1m70/70\u001b[0m \u001b[32m━━━━━━━━━━━━━━━━━━━━\u001b[0m\u001b[37m\u001b[0m \u001b[1m16s\u001b[0m 229ms/step - acc: 0.5061 - loss: 0.0488 - val_acc: 0.4120 - val_loss: 2.4313\n",
      "Epoch 36/50\n",
      "\u001b[1m70/70\u001b[0m \u001b[32m━━━━━━━━━━━━━━━━━━━━\u001b[0m\u001b[37m\u001b[0m \u001b[1m16s\u001b[0m 226ms/step - acc: 0.5068 - loss: 0.0385 - val_acc: 0.4122 - val_loss: 2.4168\n",
      "Epoch 37/50\n",
      "\u001b[1m70/70\u001b[0m \u001b[32m━━━━━━━━━━━━━━━━━━━━\u001b[0m\u001b[37m\u001b[0m \u001b[1m16s\u001b[0m 231ms/step - acc: 0.5051 - loss: 0.0328 - val_acc: 0.4128 - val_loss: 2.3993\n",
      "Epoch 38/50\n",
      "\u001b[1m70/70\u001b[0m \u001b[32m━━━━━━━━━━━━━━━━━━━━\u001b[0m\u001b[37m\u001b[0m \u001b[1m17s\u001b[0m 236ms/step - acc: 0.5071 - loss: 0.0273 - val_acc: 0.4129 - val_loss: 2.3876\n",
      "Epoch 39/50\n",
      "\u001b[1m70/70\u001b[0m \u001b[32m━━━━━━━━━━━━━━━━━━━━\u001b[0m\u001b[37m\u001b[0m \u001b[1m16s\u001b[0m 232ms/step - acc: 0.5053 - loss: 0.0230 - val_acc: 0.4130 - val_loss: 2.3705\n",
      "Epoch 40/50\n",
      "\u001b[1m70/70\u001b[0m \u001b[32m━━━━━━━━━━━━━━━━━━━━\u001b[0m\u001b[37m\u001b[0m \u001b[1m16s\u001b[0m 228ms/step - acc: 0.5032 - loss: 0.0201 - val_acc: 0.4134 - val_loss: 2.3598\n",
      "Epoch 41/50\n",
      "\u001b[1m70/70\u001b[0m \u001b[32m━━━━━━━━━━━━━━━━━━━━\u001b[0m\u001b[37m\u001b[0m \u001b[1m16s\u001b[0m 222ms/step - acc: 0.5068 - loss: 0.0174 - val_acc: 0.4134 - val_loss: 2.3506\n",
      "Epoch 42/50\n",
      "\u001b[1m70/70\u001b[0m \u001b[32m━━━━━━━━━━━━━━━━━━━━\u001b[0m\u001b[37m\u001b[0m \u001b[1m16s\u001b[0m 225ms/step - acc: 0.5057 - loss: 0.0151 - val_acc: 0.4137 - val_loss: 2.3413\n",
      "Epoch 43/50\n",
      "\u001b[1m70/70\u001b[0m \u001b[32m━━━━━━━━━━━━━━━━━━━━\u001b[0m\u001b[37m\u001b[0m \u001b[1m16s\u001b[0m 222ms/step - acc: 0.5041 - loss: 0.0138 - val_acc: 0.4140 - val_loss: 2.3306\n",
      "Epoch 44/50\n",
      "\u001b[1m70/70\u001b[0m \u001b[32m━━━━━━━━━━━━━━━━━━━━\u001b[0m\u001b[37m\u001b[0m \u001b[1m15s\u001b[0m 220ms/step - acc: 0.5046 - loss: 0.0121 - val_acc: 0.4142 - val_loss: 2.3236\n",
      "Epoch 45/50\n",
      "\u001b[1m70/70\u001b[0m \u001b[32m━━━━━━━━━━━━━━━━━━━━\u001b[0m\u001b[37m\u001b[0m \u001b[1m15s\u001b[0m 218ms/step - acc: 0.5047 - loss: 0.0109 - val_acc: 0.4143 - val_loss: 2.3158\n",
      "Epoch 46/50\n",
      "\u001b[1m70/70\u001b[0m \u001b[32m━━━━━━━━━━━━━━━━━━━━\u001b[0m\u001b[37m\u001b[0m \u001b[1m16s\u001b[0m 221ms/step - acc: 0.5044 - loss: 0.0101 - val_acc: 0.4146 - val_loss: 2.3090\n",
      "Epoch 47/50\n",
      "\u001b[1m70/70\u001b[0m \u001b[32m━━━━━━━━━━━━━━━━━━━━\u001b[0m\u001b[37m\u001b[0m \u001b[1m15s\u001b[0m 218ms/step - acc: 0.5050 - loss: 0.0092 - val_acc: 0.4148 - val_loss: 2.3002\n",
      "Epoch 48/50\n",
      "\u001b[1m70/70\u001b[0m \u001b[32m━━━━━━━━━━━━━━━━━━━━\u001b[0m\u001b[37m\u001b[0m \u001b[1m15s\u001b[0m 218ms/step - acc: 0.5053 - loss: 0.0084 - val_acc: 0.4150 - val_loss: 2.2957\n",
      "Epoch 49/50\n",
      "\u001b[1m70/70\u001b[0m \u001b[32m━━━━━━━━━━━━━━━━━━━━\u001b[0m\u001b[37m\u001b[0m \u001b[1m15s\u001b[0m 219ms/step - acc: 0.5046 - loss: 0.0078 - val_acc: 0.4155 - val_loss: 2.2900\n",
      "Epoch 50/50\n",
      "\u001b[1m70/70\u001b[0m \u001b[32m━━━━━━━━━━━━━━━━━━━━\u001b[0m\u001b[37m\u001b[0m \u001b[1m15s\u001b[0m 221ms/step - acc: 0.5036 - loss: 0.0072 - val_acc: 0.4155 - val_loss: 2.2838\n"
     ]
    }
   ],
   "source": [
    "from keras.callbacks import EarlyStopping\n",
    "\n",
    "callback = EarlyStopping(monitor='loss', patience=2)\n",
    "\n",
    "his = model.fit(\n",
    "    [encoder_input, decoder_input], \n",
    "    decoder_input,\n",
    "    batch_size= 128,\n",
    "    epochs=50,\n",
    "    callbacks=[callback],\n",
    "    validation_split=0.1\n",
    ")"
   ]
  },
  {
   "cell_type": "code",
   "execution_count": 18,
   "metadata": {},
   "outputs": [
    {
     "data": {
      "image/png": "[encoded data removed]",
      "text/plain": [
       "<Figure size 640x480 with 1 Axes>"
      ]
     },
     "metadata": {},
     "output_type": "display_data"
    },
    {
     "data": {
      "image/png": "[encoded data removed]",
      "text/plain": [
       "<Figure size 640x480 with 1 Axes>"
      ]
     },
     "metadata": {},
     "output_type": "display_data"
    }
   ],
   "source": [
    "import matplotlib.pyplot as plt\n",
    "def plot_graphs(history, string):\n",
    "    plt.plot(history.history[string])\n",
    "    plt.plot(history.history['val_'+string])\n",
    "    plt.xlabel(\"Epochs\")\n",
    "    plt.ylabel(string)\n",
    "    plt.legend([string, 'val_'+string])\n",
    "    plt.show()\n",
    "\n",
    "plot_graphs(his, \"acc\")\n",
    "plot_graphs(his, \"loss\")"
   ]
  },
  {
   "cell_type": "code",
   "execution_count": 19,
   "metadata": {},
   "outputs": [
    {
     "name": "stderr",
     "output_type": "stream",
     "text": [
      "WARNING:absl:You are saving your model as an HDF5 file via `model.save()` or `keras.saving.save_model(model)`. This file format is considered legacy. We recommend using instead the native Keras format, e.g. `model.save('my_model.keras')` or `keras.saving.save_model(model, 'my_model.keras')`. \n"
     ]
    }
   ],
   "source": [
    "model.save( 'D:/UTD/Spring 2024/NLP/Project 2/final_model.keras')\n",
    "model.save( 'D:/UTD/Spring 2024/NLP/Project 2/final_model.h5')"
   ]
  },
  {
   "cell_type": "code",
   "execution_count": 34,
   "metadata": {},
   "outputs": [
    {
     "name": "stdout",
     "output_type": "stream",
     "text": [
      "[[], [34], [127], [34], []]  \t\t [[], [34], [127], [34], []]\n"
     ]
    },
    {
     "data": {
      "text/plain": [
       "(1, 100, 1)"
      ]
     },
     "execution_count": 34,
     "metadata": {},
     "output_type": "execute_result"
    }
   ],
   "source": [
    "print(tokenizer.texts_to_sequences(\"<sos>\"), \" \\t\\t\" ,tokenizer_questions.texts_to_sequences(\"<sos>\"))\n",
    "tokenizer.word_index[\"sos\"],100,tokenizer_questions.word_index[\"sos\"]"
   ]
  },
  {
   "cell_type": "code",
   "execution_count": 41,
   "metadata": {},
   "outputs": [
    {
     "name": "stdout",
     "output_type": "stream",
     "text": [
      "\u001b[1m1/1\u001b[0m \u001b[32m━━━━━━━━━━━━━━━━━━━━\u001b[0m\u001b[37m\u001b[0m \u001b[1m0s\u001b[0m 22ms/step\n",
      "\u001b[1m1/1\u001b[0m \u001b[32m━━━━━━━━━━━━━━━━━━━━\u001b[0m\u001b[37m\u001b[0m \u001b[1m0s\u001b[0m 30ms/step\n",
      "\u001b[1m1/1\u001b[0m \u001b[32m━━━━━━━━━━━━━━━━━━━━\u001b[0m\u001b[37m\u001b[0m \u001b[1m0s\u001b[0m 20ms/step\n",
      "\u001b[1m1/1\u001b[0m \u001b[32m━━━━━━━━━━━━━━━━━━━━\u001b[0m\u001b[37m\u001b[0m \u001b[1m0s\u001b[0m 20ms/step\n",
      "\u001b[1m1/1\u001b[0m \u001b[32m━━━━━━━━━━━━━━━━━━━━\u001b[0m\u001b[37m\u001b[0m \u001b[1m0s\u001b[0m 20ms/step\n",
      "\u001b[1m1/1\u001b[0m \u001b[32m━━━━━━━━━━━━━━━━━━━━\u001b[0m\u001b[37m\u001b[0m \u001b[1m0s\u001b[0m 21ms/step\n",
      "\u001b[1m1/1\u001b[0m \u001b[32m━━━━━━━━━━━━━━━━━━━━\u001b[0m\u001b[37m\u001b[0m \u001b[1m0s\u001b[0m 26ms/step\n",
      "\u001b[1m1/1\u001b[0m \u001b[32m━━━━━━━━━━━━━━━━━━━━\u001b[0m\u001b[37m\u001b[0m \u001b[1m0s\u001b[0m 21ms/step\n",
      "\u001b[1m1/1\u001b[0m \u001b[32m━━━━━━━━━━━━━━━━━━━━\u001b[0m\u001b[37m\u001b[0m \u001b[1m0s\u001b[0m 26ms/step\n",
      "\u001b[1m1/1\u001b[0m \u001b[32m━━━━━━━━━━━━━━━━━━━━\u001b[0m\u001b[37m\u001b[0m \u001b[1m0s\u001b[0m 29ms/step\n",
      "\u001b[1m1/1\u001b[0m \u001b[32m━━━━━━━━━━━━━━━━━━━━\u001b[0m\u001b[37m\u001b[0m \u001b[1m0s\u001b[0m 23ms/step\n",
      "\u001b[1m1/1\u001b[0m \u001b[32m━━━━━━━━━━━━━━━━━━━━\u001b[0m\u001b[37m\u001b[0m \u001b[1m0s\u001b[0m 23ms/step\n",
      "\u001b[1m1/1\u001b[0m \u001b[32m━━━━━━━━━━━━━━━━━━━━\u001b[0m\u001b[37m\u001b[0m \u001b[1m0s\u001b[0m 23ms/step\n",
      "\u001b[1m1/1\u001b[0m \u001b[32m━━━━━━━━━━━━━━━━━━━━\u001b[0m\u001b[37m\u001b[0m \u001b[1m0s\u001b[0m 24ms/step\n",
      "\u001b[1m1/1\u001b[0m \u001b[32m━━━━━━━━━━━━━━━━━━━━\u001b[0m\u001b[37m\u001b[0m \u001b[1m0s\u001b[0m 23ms/step\n",
      "\u001b[1m1/1\u001b[0m \u001b[32m━━━━━━━━━━━━━━━━━━━━\u001b[0m\u001b[37m\u001b[0m \u001b[1m0s\u001b[0m 22ms/step\n",
      "\u001b[1m1/1\u001b[0m \u001b[32m━━━━━━━━━━━━━━━━━━━━\u001b[0m\u001b[37m\u001b[0m \u001b[1m0s\u001b[0m 21ms/step\n",
      "\u001b[1m1/1\u001b[0m \u001b[32m━━━━━━━━━━━━━━━━━━━━\u001b[0m\u001b[37m\u001b[0m \u001b[1m0s\u001b[0m 28ms/step\n",
      "\u001b[1m1/1\u001b[0m \u001b[32m━━━━━━━━━━━━━━━━━━━━\u001b[0m\u001b[37m\u001b[0m \u001b[1m0s\u001b[0m 24ms/step\n",
      "Response: sos sos the the the the the the the the the the the the the the the the the the\n"
     ]
    }
   ],
   "source": [
    "# Function to generate a response given a input sentence\n",
    "from tqdm import tqdm\n",
    "\n",
    "def generate_response(input_text):\n",
    "    # Tokenize the input text\n",
    "    input_sequence = tokenizer_questions.texts_to_sequences([input_text])\n",
    "    # Pad the input sequence\n",
    "    input_sequence = pad_sequences(input_sequence, maxlen=max_len_question, padding='post')\n",
    "\n",
    "    # Initialize the decoder input sequence with start token\n",
    "    decoder_input_sequence = np.zeros((1, max_len_answer+1))\n",
    "    decoder_input_sequence[0, 0] = tokenizer.word_index['sos']\n",
    "    \n",
    "    # Generate response using the trained model\n",
    "    for i in range(max_len_answer):\n",
    "        predictions = model.predict([input_sequence, decoder_input_sequence])\n",
    "        predicted_id = np.argmax(predictions[0, i, :])\n",
    "        if predicted_id == tokenizer.word_index['eos']:\n",
    "            break\n",
    "        decoder_input_sequence[0, i+1] = predicted_id\n",
    "\n",
    "    # Convert output sequence to text\n",
    "    output_text = ''\n",
    "    for token_index in decoder_input_sequence[0]:\n",
    "        if token_index == tokenizer.word_index['eos'] or token_index == 0:\n",
    "            break\n",
    "        output_text += tokenizer.index_word[token_index] + ' '\n",
    "\n",
    "    return output_text.strip()\n",
    "\n",
    "# Test the function with input \"how are you\"\n",
    "input_text = \"what movies are about ginger rogers?\"\n",
    "response = generate_response(input_text)\n",
    "print(\"Response:\", response)"
   ]
  },
  {
   "cell_type": "code",
   "execution_count": null,
   "metadata": {},
   "outputs": [],
   "source": []
  },
  {
   "cell_type": "code",
   "execution_count": null,
   "metadata": {},
   "outputs": [],
   "source": []
  },
  {
   "cell_type": "code",
   "execution_count": null,
   "metadata": {},
   "outputs": [],
   "source": [
    "# !pip install -q datasets\n",
    "from datasets import load_dataset\n",
    "\n",
    "movie_dataset = load_dataset(\"wiki_movies\")\n",
    "movie_dataset"
   ]
  },
  {
   "cell_type": "code",
   "execution_count": null,
   "metadata": {},
   "outputs": [],
   "source": [
    "import tensorflow as tf\n",
    "from tensorflow.keras.preprocessing.text import Tokenizer\n",
    "from tensorflow.keras.preprocessing.sequence import pad_sequences\n",
    "from tensorflow.keras.models import Model\n",
    "import numpy as np\n",
    "from tensorflow.keras.layers import Input, LSTM, Dense, Embedding, Attention, Concatenate\n",
    "\n",
    "import nltk\n",
    "from nltk.corpus import stopwords\n",
    "from nltk.tokenize import word_tokenize\n",
    "import re\n",
    "import unicodedata\n",
    "import pandas as pd\n",
    "\n",
    "nltk.download('punkt')\n",
    "\n",
    "def unicode_to_ascii(s):\n",
    "    return ''.join(c for c in unicodedata.normalize('NFD', s)\n",
    "      if unicodedata.category(c) != 'Mn')\n",
    "\n",
    "# Function for preprocessing text\n",
    "def preprocess_text(text):\n",
    "    # Convert text to lowercase\n",
    "    text = unicode_to_ascii(text.lower().strip())\n",
    "    text = re.sub(\"(\\\\W)\",\" \",text)\n",
    "    text = re.sub('\\S*\\d\\S*\\s*','', text)\n",
    "    text =  \"<sos> \" +  text + \"<eos>\"\n",
    "    return text\n",
    "\n",
    "# Apply preprocessing to question and answer columns\n",
    "preprocessed_df = pd.DataFrame({\n",
    "    \"question\":  movie_dataset[\"train\"][\"question\"][:1000],\n",
    "    \"answer\":  movie_dataset[\"train\"][\"answer\"][:1000]\n",
    "})\n",
    "preprocessed_df['question'] = preprocessed_df['question'].apply(preprocess_text)\n",
    "preprocessed_df['answer'] = preprocessed_df['answer'].apply(preprocess_text)\n",
    "\n",
    "# Print the preprocessed DataFrame\n",
    "preprocessed_df"
   ]
  },
  {
   "cell_type": "code",
   "execution_count": null,
   "metadata": {},
   "outputs": [],
   "source": [
    "# Preprocessing the data\n",
    "questions = preprocessed_df['question'].values.tolist()\n",
    "answers = preprocessed_df['answer'].values.tolist()\n",
    "\n",
    "# Tokenizing the data\n",
    "tokenizer = Tokenizer(filters='')\n",
    "tokenizer.fit_on_texts(np.concatenate((questions, answers), axis=0))\n",
    "\n",
    "vocab_size = len(tokenizer.word_index) + 1\n",
    "\n",
    "# Convert text to sequences\n",
    "question_seqs = tokenizer.texts_to_sequences(questions)\n",
    "answer_seqs = tokenizer.texts_to_sequences(answers)\n",
    "\n",
    "# Padding sequences for equal length\n",
    "# Pad sequences for equal length\n",
    "max_len_question = max(len(seq) for seq in question_seqs)\n",
    "max_len_answer = max(len(seq) for seq in answer_seqs)\n",
    "max_len = max(max_len_question, max_len_answer)\n",
    "print(max(max_len_question, max_len_answer))\n",
    "# Pad sequences separately for questions and answers\n",
    "question_seqs = pad_sequences(question_seqs, maxlen=max_len, padding='post')\n",
    "answer_seqs = pad_sequences(answer_seqs, maxlen=max_len, padding='post')"
   ]
  },
  {
   "cell_type": "code",
   "execution_count": null,
   "metadata": {},
   "outputs": [],
   "source": []
  },
  {
   "cell_type": "code",
   "execution_count": null,
   "metadata": {},
   "outputs": [],
   "source": []
  }
 ],
 "metadata": {
  "kernelspec": {
   "display_name": "Python 3",
   "language": "python",
   "name": "python3"
  },
  "language_info": {
   "codemirror_mode": {
    "name": "ipython",
    "version": 3
   },
   "file_extension": ".py",
   "mimetype": "text/x-python",
   "name": "python",
   "nbconvert_exporter": "python",
   "pygments_lexer": "ipython3",
   "version": "3.12.1"
  }
 },
 "nbformat": 4,
 "nbformat_minor": 2
}
